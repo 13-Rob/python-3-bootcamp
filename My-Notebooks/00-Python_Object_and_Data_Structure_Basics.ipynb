{
 "cells": [
  {
   "cell_type": "markdown",
   "metadata": {},
   "source": [
    "# Python Object and Data Structure Basics"
   ]
  },
  {
   "cell_type": "markdown",
   "metadata": {},
   "source": [
    "## Basic Data Types\n",
    "---\n",
    "\n",
    "|Name|Type|Description|\n",
    "|:---:|:---:|:---:|\n",
    "|Integers       |int    |Whole numbres, such as: **3, 300, 200**|\n",
    "|Floating point |float  |Numbers with a decimal point: **2.3, 4.6, 100.0**|\n",
    "|Strings        |str    |Ordered sequence of characters: **\"hello\", 'Sammy', \"2000\", \"わたし\"**|\n",
    "|Lists          |list   |Ordered sequence of objects: **[10, \"hello\", 200.3]**|\n",
    "|Dictionaries   |dict   |Unordered Key:Value pairs: **\"{\"mykey\":\"value\", \"name\":\"Frankie\"}\"**|\n",
    "|Tuples         |tup    |Ordered immutable sequence of objects: **(10, \"hello\", 200.3)**|\n",
    "|Sets           |set    |Unordered collection of unique objects: **{\"a\", \"b\"}**|\n",
    "|Booleans       |bool   |Logical value indicating **True** or **False**|"
   ]
  },
  {
   "cell_type": "markdown",
   "metadata": {},
   "source": [
    "## Python Numbers\n",
    "---\n"
   ]
  }
 ],
 "metadata": {
  "language_info": {
   "name": "python"
  }
 },
 "nbformat": 4,
 "nbformat_minor": 2
}
