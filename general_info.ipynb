{
 "cells": [
  {
   "cell_type": "markdown",
   "metadata": {},
   "source": [
    "# Python General Info\n",
    "To run a python file you use the command\n",
    "\n",
    "```$   python [path/to/python/file.py]```\n",
    "\n",
    "---\n",
    "## Virtual Enviroments\n",
    "### Make a venv\n",
    "To make a venv using python you do\n",
    "\n",
    "```$   python -m venv /path/to/new/virtual/enviroment [--copies]```\n",
    "\n",
    "---\n",
    "### Activating venv\n",
    "To activate the venv (Windows)\n",
    "\n",
    "```$   venv/Scripts/activate.bat```\n",
    "\n",
    "To activate the venv (Mac)\n",
    "\n",
    "```$   source venv/bin/activate```\n",
    "\n",
    "To deactivate the venv\n",
    "\n",
    "```$   deactivate```\n",
    "\n",
    "<!-- To activate the venv (Mac)\n",
    "```\n",
    "venv/Scripts/activate.bat\n",
    "``` -->\n",
    "\n",
    "---\n",
    "## Pip\n",
    "Installing a package\n",
    "\n",
    "```$ pip install <package_name>```\n",
    "\n",
    "Installing packages from a `requirements.txt` file\n",
    "\n",
    "```$ pip install -r /path/to/requirements.txt```"
   ]
  }
 ],
 "metadata": {
  "kernelspec": {
   "display_name": "python-bootcamp-venv",
   "language": "python",
   "name": "python3"
  },
  "language_info": {
   "codemirror_mode": {
    "name": "ipython",
    "version": 3
   },
   "file_extension": ".py",
   "mimetype": "text/x-python",
   "name": "python",
   "nbconvert_exporter": "python",
   "pygments_lexer": "ipython3",
   "version": "3.12.1"
  }
 },
 "nbformat": 4,
 "nbformat_minor": 2
}
