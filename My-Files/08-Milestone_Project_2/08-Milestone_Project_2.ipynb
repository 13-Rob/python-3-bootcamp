{
 "cells": [
  {
   "cell_type": "markdown",
   "metadata": {},
   "source": [
    "# Milestone Project 2\n",
    "---\n",
    "## Blackjack (Card game)\n",
    "### Setup\n",
    "- 52-card deck\n",
    "\n",
    "### Goal\n",
    "Get closer to a total value of 21 than the dealer does\n",
    "\n",
    "### Game\n",
    "1. Dealer start with 1 card face up and 1 card face down\n",
    "2. Player starts with 2 cards face up\n",
    "3. Player's Turn Possible actions:<br>\n",
    "&emsp;Hit (Receive another card)<br>\n",
    "&emsp;Stay (Stop receiving cards)<br>\n",
    "4. Dealer's Turn Possible actions<br>\n",
    "&emsp;Hit until they beat the player or bust.\n",
    "\n",
    "The game ends if:<br>\n",
    "&emsp;the player gets over 21, the dealer collects the money.<br>\n",
    "&emsp;the player gets under 21, and the dealer hits until they get more than the player but less than 21.<br>\n",
    "&emsp;the  player gets 21 or less, and the dealer hits until they bust.<br>\n",
    "\n",
    "### Special Rules\n",
    "- Face Cards (Jack, Queen, King) count as a value of 10.\n",
    "- Aces can count as either 1 o 11, whichever value is preferable to the player.\n",
    "\n",
    "---\n",
    "## Classes\n",
    "- Single Card Class\n",
    "- Deck Class\n",
    "- Player Class\n",
    "\n",
    "---\n",
    "## Single Card Class\n",
    "### Attributes\n",
    "- Suit\n",
    "- Rank\n",
    "- Value"
   ]
  },
  {
   "cell_type": "code",
   "execution_count": 1,
   "metadata": {},
   "outputs": [],
   "source": [
    "suits = ('Hearts', 'Diamonds', 'Spades', 'Clubs')\n",
    "ranks = ('Two', 'Three', 'Four', 'Five', 'Six', 'Seven', 'Eight', 'Nine', 'Ten', 'Jack', 'Queen', 'King', 'Ace')\n",
    "values = {'Two':2, 'Three':3, 'Four':4, 'Five':5, 'Six':6, 'Seven':7, 'Eight':8,\n",
    "         'Nine':9, 'Ten':10, 'Jack':11, 'Queen':12, 'King':13, 'Ace':14}\n",
    "\n",
    "class Card:\n",
    "\n",
    "    def __init__(self, suit, rank):\n",
    "        self.suit = suit\n",
    "        self.rank = rank\n",
    "        self.value = values[rank]\n",
    "\n",
    "    def __str__(self):\n",
    "        return self.rank + \" of \" + self.suit"
   ]
  },
  {
   "cell_type": "markdown",
   "metadata": {},
   "source": [
    "## Deck Class\n",
    "### Attributes\n",
    "- List of Cards\n",
    "\n",
    "### Methods\n",
    "- Shuffle cards\n",
    "\n",
    "## Player Class\n",
    "### Attributes\n",
    "- Bank roll\n",
    "- Hand\n",
    "\n",
    "### Methods\n",
    "- Bet\n",
    "- Hit\n",
    "- Stay"
   ]
  }
 ],
 "metadata": {
  "kernelspec": {
   "display_name": "python-bootcamp-venv",
   "language": "python",
   "name": "python3"
  },
  "language_info": {
   "codemirror_mode": {
    "name": "ipython",
    "version": 3
   },
   "file_extension": ".py",
   "mimetype": "text/x-python",
   "name": "python",
   "nbconvert_exporter": "python",
   "pygments_lexer": "ipython3",
   "version": "3.12.1"
  }
 },
 "nbformat": 4,
 "nbformat_minor": 2
}
