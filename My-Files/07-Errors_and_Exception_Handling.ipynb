{
 "cells": [
  {
   "cell_type": "markdown",
   "metadata": {},
   "source": [
    "# Errors and Exception Handling\n",
    "---\n",
    "## **try**, **except**, and **finally**\n",
    "- **try**: Is the block of code to be attempted (may lead to an error).<br>\n",
    "- **except**: This block of code will be excecuted if there is an error in **try** block.<br>\n",
    "- **finally**: A final block of code to be executed, regardless of an error.<br>"
   ]
  },
  {
   "cell_type": "code",
   "execution_count": null,
   "metadata": {},
   "outputs": [],
   "source": [
    "try:\n",
    "    # Want to attempt this code\n",
    "    # May have an error\n",
    "    result = 10 + '10'\n",
    "\n",
    "except:\n",
    "    # Will catch the error and you can do something instead of just letting the program crash\n",
    "    print(\"Hey, looks like you're not adding correctly\")\n",
    "else:\n",
    "    print(\"Add went well!\")\n",
    "    print(result)\n"
   ]
  }
 ],
 "metadata": {
  "kernelspec": {
   "display_name": "python-bootcamp-venv",
   "language": "python",
   "name": "python3"
  },
  "language_info": {
   "name": "python",
   "version": "3.12.1"
  }
 },
 "nbformat": 4,
 "nbformat_minor": 2
}
