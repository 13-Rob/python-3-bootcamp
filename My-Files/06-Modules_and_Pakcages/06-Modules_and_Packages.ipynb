{
 "cells": [
  {
   "cell_type": "markdown",
   "metadata": {},
   "source": [
    "# Modules and Packages\n",
    "To install packages you would usually want to use ```pip```, which comes with the python installation from python.org and with Anaconda.\n",
    "\n",
    "To use pip you do:\n",
    "\n",
    ">```$ pip```\n",
    "\n",
    "To install a package using pip you do:\n",
    "\n",
    ">```$ pip install [package-name]```\n",
    "\n",
    "If you're stuck you can use the *help* flag.\n",
    "\n",
    ">```$ pip help```\n",
    "\n",
    "---\n",
    "\n",
    "## Writing you own Modules and Packages\n",
    "Modules are just .py scripts that you call in another .py script, and packages are a collection of modules."
   ]
  },
  {
   "cell_type": "code",
   "execution_count": 5,
   "metadata": {},
   "outputs": [
    {
     "name": "stdout",
     "output_type": "stream",
     "text": [
      "Hey, I am in mymodule.py\n"
     ]
    }
   ],
   "source": [
    "# mymodule is the mymodule.py script in this same folder.\n",
    "from mymodule import my_func\n",
    "\n",
    "my_func()"
   ]
  },
  {
   "cell_type": "markdown",
   "metadata": {},
   "source": [
    "To identify folders as packages you need to add a .py script named ```__init__.py```. For any subfolder in that package, if you want to make it a subpackage, you need to add ```__init__.py``` to each subpackage.\n",
    "\n",
    "```\n",
    "MyMainPackage\n",
    "    | SubPackage\n",
    "    |   | __init__.py\n",
    "    |   | my_subscript.py\n",
    "    |\n",
    "    | __init__.py\n",
    "    | my_mainscript.py\n",
    "```"
   ]
  },
  {
   "cell_type": "code",
   "execution_count": 7,
   "metadata": {},
   "outputs": [
    {
     "name": "stdout",
     "output_type": "stream",
     "text": [
      "Hey, I am in some_main_script in main package\n",
      "Hey, I am a function inside mysubscript\n"
     ]
    }
   ],
   "source": [
    "# This are custom packages and subpackages.\n",
    "from MyMainPackage import some_main_script\n",
    "from MyMainPackage.SubPackage import my_subscript\n",
    "\n",
    "# And this are functions from those packages.\n",
    "some_main_script.report_main()\n",
    "my_subscript.sub_report()"
   ]
  },
  {
   "cell_type": "markdown",
   "metadata": {},
   "source": [
    "\n",
    "---\n",
    "## \\_\\_name\\_\\_ and \"\\_\\_main\\_\\_\"\n",
    "\n",
    "The mysterious ```if __name__ == \"__main__\":```<br>\n",
    "This line helps you to determine whether a function is being run as an import, or if it's being run from the original file. If a file is being imported, then the classes will be defined, but the main() won't get run. So you can tell the module to act a certain way if it's being imported and another if it's being run from the original file."
   ]
  }
 ],
 "metadata": {
  "kernelspec": {
   "display_name": "python-bootcamp-venv",
   "language": "python",
   "name": "python3"
  },
  "language_info": {
   "codemirror_mode": {
    "name": "ipython",
    "version": 3
   },
   "file_extension": ".py",
   "mimetype": "text/x-python",
   "name": "python",
   "nbconvert_exporter": "python",
   "pygments_lexer": "ipython3",
   "version": "3.12.1"
  }
 },
 "nbformat": 4,
 "nbformat_minor": 2
}
