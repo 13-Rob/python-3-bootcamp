{
 "cells": [
  {
   "cell_type": "markdown",
   "metadata": {},
   "source": [
    "# Errors and Exception Handling\n",
    "---\n",
    "## **try**, **except**, and **finally**\n",
    "- **try**: Is the block of code to be attempted (may lead to an error).<br>\n",
    "- **except**: This block of code will be excecuted if there is an error in **try** block.<br>\n",
    "- **finally**: A final block of code to be executed, regardless of an error.<br>"
   ]
  },
  {
   "cell_type": "code",
   "execution_count": 3,
   "metadata": {},
   "outputs": [
    {
     "name": "stdout",
     "output_type": "stream",
     "text": [
      "Add went well!\n",
      "20\n",
      "I always run\n"
     ]
    }
   ],
   "source": [
    "try:\n",
    "    # Want to attempt this code\n",
    "    # May have an error\n",
    "    result = 10 + 10\n",
    "\n",
    "except:\n",
    "    # Will catch the error and you can do something instead of just letting the program crash\n",
    "    print(\"Hey, looks like you're not adding correctly\")\n",
    "else:\n",
    "    # If there is no error, then do this\n",
    "    print(\"Add went well!\")\n",
    "    print(result)\n",
    "\n",
    "finally:\n",
    "    # Will run no matter what\n",
    "    print(\"I always run\")\n"
   ]
  },
  {
   "cell_type": "markdown",
   "metadata": {},
   "source": [
    "### Catching different types of errors"
   ]
  },
  {
   "cell_type": "code",
   "execution_count": 7,
   "metadata": {},
   "outputs": [
    {
     "name": "stdout",
     "output_type": "stream",
     "text": [
      "Hey, you have an OSError\n",
      "I always run\n"
     ]
    }
   ],
   "source": [
    "try:\n",
    "    f = open('testfile', 'r')\n",
    "    f.write(\"Write a test line\")\n",
    "\n",
    "# You can specify the type of errors\n",
    "# The type of errors come in the documentation\n",
    "except TypeError:\n",
    "    print(\"There was a TypeError\")\n",
    "except OSError:\n",
    "    print(\"Hey, you have an OSError\")\n",
    "except:\n",
    "    print(\"You had another type of Error\")\n",
    "\n",
    "finally:\n",
    "    print(\"I always run\")"
   ]
  },
  {
   "cell_type": "code",
   "execution_count": 12,
   "metadata": {},
   "outputs": [
    {
     "name": "stdout",
     "output_type": "stream",
     "text": [
      "Whoops! That is not a number\n",
      "End of try/except/finally\n"
     ]
    }
   ],
   "source": [
    "def ask_for_int():\n",
    "\n",
    "    try:\n",
    "        result = int(input(\"Please provide number: \"))\n",
    "    except:\n",
    "        print(\"Whoops! That is not a number\")\n",
    "    finally:\n",
    "        print(\"End of try/except/finally\")\n",
    "\n",
    "# This function ends after running just once,\n",
    "# even if the function breaks or not\n",
    "ask_for_int()"
   ]
  },
  {
   "cell_type": "code",
   "execution_count": 13,
   "metadata": {},
   "outputs": [
    {
     "name": "stdout",
     "output_type": "stream",
     "text": [
      "Whoops! That is not a number\n",
      "End of try/except/finally\n",
      "Whoops! That is not a number\n",
      "End of try/except/finally\n",
      "Yes, thank you\n",
      "End of try/except/finally\n"
     ]
    }
   ],
   "source": [
    "def ask_for_int():\n",
    "\n",
    "    while True:\n",
    "        try:\n",
    "            result = int(input(\"Please provide number: \"))\n",
    "        except:\n",
    "            print(\"Whoops! That is not a number\")\n",
    "            continue\n",
    "        else:\n",
    "            print(\"Yes, thank you\")\n",
    "            break\n",
    "        finally:\n",
    "            print(\"End of try/except/finally\")\n",
    "\n",
    "# This function asks for input until it received what it was expecting\n",
    "ask_for_int()"
   ]
  },
  {
   "cell_type": "markdown",
   "metadata": {},
   "source": [
    "---\n",
    "## Homework\n",
    "### Problem 1\n",
    "Handle the exception thrown by the code below by using try and except blocks."
   ]
  },
  {
   "cell_type": "code",
   "execution_count": 16,
   "metadata": {},
   "outputs": [
    {
     "name": "stdout",
     "output_type": "stream",
     "text": [
      "You can't do math with Strings!\n"
     ]
    }
   ],
   "source": [
    "try:\n",
    "    for i in ['a', 'b', 'c']:\n",
    "        print(i**2)\n",
    "\n",
    "except TypeError:\n",
    "    print(\"You can't do math with Strings!\")"
   ]
  },
  {
   "cell_type": "markdown",
   "metadata": {},
   "source": [
    "### Problem 2\n",
    "Handle the exception thrown by the code below by using try and except blocks. Then use a finally block to print 'All Done'."
   ]
  },
  {
   "cell_type": "code",
   "execution_count": 17,
   "metadata": {},
   "outputs": [
    {
     "name": "stdout",
     "output_type": "stream",
     "text": [
      "You cannot divide by zero!\n",
      "All Done\n"
     ]
    }
   ],
   "source": [
    "try:\n",
    "    x = 5\n",
    "    y = 0\n",
    "\n",
    "    z = x/y\n",
    "\n",
    "except ZeroDivisionError:\n",
    "    print(\"You cannot divide by zero!\")\n",
    "\n",
    "finally:\n",
    "    print(\"All Done\")"
   ]
  },
  {
   "cell_type": "markdown",
   "metadata": {},
   "source": [
    "### Problem 3\n",
    "Write a function that asks for an integer and prints the square of it. Use a ```while``` loop with a ```try```, ```except```, ```else``` block to account for incorrect inputs."
   ]
  },
  {
   "cell_type": "code",
   "execution_count": 1,
   "metadata": {},
   "outputs": [],
   "source": [
    "def ask():\n",
    "    while True:\n",
    "        try:\n",
    "            x = int(input(\"Gimme a number and I'll square it up \"))\n",
    "        except:\n",
    "            print(\"Nono, that's not a number, try again\")\n",
    "            continue\n",
    "        else:\n",
    "            print(x**2)\n",
    "            break"
   ]
  },
  {
   "cell_type": "code",
   "execution_count": 2,
   "metadata": {},
   "outputs": [
    {
     "name": "stdout",
     "output_type": "stream",
     "text": [
      "4\n"
     ]
    }
   ],
   "source": [
    "ask()"
   ]
  },
  {
   "cell_type": "markdown",
   "metadata": {},
   "source": [
    "---\n",
    "## Unit Testing\n",
    "It is important to have tests in place, as you make changes or update your code, you can run test files to make sure previous code still work as expected. There are several testing tools, we will focus on two:\n",
    "- **pylint**: is a library that looks at your code and report back possible issues.\n",
    "- **unittest**: is a built-in library that allows to test your own programs and lets you check you are getting desired outputs.\n",
    "\n",
    "### Pylint\n",
    "Pylint checks your code and rates it based on the PEP8 rules for styling. To run pylint on a python script you use the following command:<br>\n",
    "```$ pylint route/to/file```\n",
    "\n",
    "### Unittest"
   ]
  },
  {
   "cell_type": "code",
   "execution_count": null,
   "metadata": {},
   "outputs": [],
   "source": [
    "# RUNNING IT HERE WON'T WORK\n",
    "import unittest\n",
    "import cap\n",
    "\n",
    "# Create a test class that inherit from unit test\n",
    "class TestCap(unittest.TestCase):\n",
    "\n",
    "    # Make the test function\n",
    "    def test_one_word(self):\n",
    "        text = 'python'\n",
    "        # Call whatever function you want to test\n",
    "        result = cap.cap_text(text)\n",
    "        # Verify that the results are what you expected\n",
    "        self.assertEqual(result, 'Python')\n",
    "\n",
    "    # Make as many tests as you need\n",
    "    def test_multiple_words(self):\n",
    "        text = 'monty python'\n",
    "        result = cap.cap_text(text)\n",
    "        self.assertEqual(result, 'Monty Python')\n",
    "\n",
    "if __name__=='__main__':\n",
    "    unittest.main()"
   ]
  },
  {
   "cell_type": "markdown",
   "metadata": {},
   "source": [
    "### Other tools\n",
    "- flake8\n",
    "- black\n",
    "- pycodestyle\n",
    "- pychecker"
   ]
  }
 ],
 "metadata": {
  "kernelspec": {
   "display_name": "python-bootcamp-venv",
   "language": "python",
   "name": "python3"
  },
  "language_info": {
   "codemirror_mode": {
    "name": "ipython",
    "version": 3
   },
   "file_extension": ".py",
   "mimetype": "text/x-python",
   "name": "python",
   "nbconvert_exporter": "python",
   "pygments_lexer": "ipython3",
   "version": "3.12.1"
  }
 },
 "nbformat": 4,
 "nbformat_minor": 2
}
